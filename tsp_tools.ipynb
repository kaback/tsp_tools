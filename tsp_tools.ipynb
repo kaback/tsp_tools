{
 "cells": [
  {
   "cell_type": "markdown",
   "metadata": {},
   "source": [
    "Wenn man sich als Administrator eine schnelle Übersicht über die Zusammensetzung von Klassen und den TSC-Anmeldestatus von Schülern der eigenen Schule verschaffen möchte, muss man in der Verwaltungsübersicht des Thüringer Schulportals normalerweise ewig viel herumklicken.\n",
    "\n",
    "Die folgenden Codeschnipsel erzeugen eine Excel Arbeitsmappe, die pro Klasse ein Arbeitsblatt mit einer sortierten Liste der Schüler und deren Anmeldestatus enthält.\n",
    "\n",
    "Mit den in dieser Form vorliegenden Daten kann man sehr schnell weitere Reports oder Listen anfertigen.\n",
    "\n",
    "**Payload** und **Cookies** muss man sich zuvor mit den Entwicklerwerkzeugen eines Browsers aus einer echten Session abzweigen, man benötigt also einen Zugang mit Adminrechten für die Verwaltungsansicht der eigenen Schule im Thüringer Schulportal\n",
    "\n",
    "Benutzung auf eigene Gefahr."
   ]
  },
  {
   "cell_type": "code",
   "execution_count": null,
   "metadata": {},
   "outputs": [],
   "source": [
    "import requests\n",
    "\n",
    "baseURL=\"https://www.schulportal-thueringen.de/tip-ms/api/backend_schule_schueleruebersicht/\"\n",
    "payload = dict(authToken = '',\n",
    "               name = '',\n",
    "               halbjahrId = '',\n",
    "               klasseId =  '',\n",
    "              schuleId = '')\n",
    "\n",
    "cookies = dict(authJwt='',\n",
    "               login='true',\n",
    "               JSESSIONID='' )\n",
    "\n",
    "r = requests.get(baseURL, params=payload, cookies=cookies)\n",
    "\n",
    "schuelerdaten = r.json()\n",
    "\n",
    "schuelerdaten"
   ]
  },
  {
   "cell_type": "markdown",
   "metadata": {},
   "source": [
    "Aus den geholten Schülerdaten eine sortierte Liste mit Klassennamen generieren"
   ]
  },
  {
   "cell_type": "code",
   "execution_count": null,
   "metadata": {},
   "outputs": [],
   "source": [
    "import collections\n",
    "\n",
    "klassenNamen = {}\n",
    "\n",
    "# die API des Schulportals liefert die Schülerdaten unsotiert.\n",
    "# hier sortieren wir daher die Schüler zunächst Klassenweise.\n",
    "\n",
    "for schueler in schuelerdaten:\n",
    "    # wie heisst die aktuelle Klasse?\n",
    "    klassenName = schueler[\"klasseName\"]\n",
    "    \n",
    "    # pro Klasse ein leeres Array anlegen, in welches später die Schülerdaten\n",
    "    # eigenfügt werden\n",
    "    if klassenName not in klassenNamen:\n",
    "        klassenNamen[klassenName] = []\n",
    " \n",
    "    # pro Schüler ein Array mit den Schülerdaten erzeugen\n",
    "    schueler = [ schueler[\"nachname\"], \n",
    "                    schueler[\"vorname\"],\n",
    "                    schueler[\"geburtsdatum\"],\n",
    "                    \"ja\" if (schueler[\"kzZugang\"] == \"1\") else \"nein\",\n",
    "                    schueler[\"benutzerName\"] if (\"benutzerName\" in schueler) else \"\",\n",
    "                    schueler[\"email\"] if (\"email\" in schueler) else \"\",\n",
    "                    schueler[\"zeitraum\"],\n",
    "                    schueler[\"dtEinladungAblauf\"] if(\"dtEinladungAblauf\" in schueler) else \"\" ]\n",
    "\n",
    "    # Schülerdaten dem Array der jeweiligen Klasse hinzufügen\n",
    "    klassenNamen[klassenName].append(schueler)\n",
    "\n",
    "# in der Excel Arbeitsmappe sollen später die Arbeitsblätter alphabetisch sortiert sein, darum sortieren wir hier\n",
    "# das Dict schonmal alphabetisch nach Klassennamen\n",
    "oklassenNamen = collections.OrderedDict(sorted(klassenNamen.items()))\n",
    "\n",
    "# erzeugt eine Debugausgabe, an der man erkennen kann, ob alles gut gelaufen ist\n",
    "oklassenNamen\n",
    "\n"
   ]
  },
  {
   "cell_type": "markdown",
   "metadata": {},
   "source": [
    "Aus den geholten Schülerdaten eine Excel Arbeitsmappe machen und grob formatieren"
   ]
  },
  {
   "cell_type": "code",
   "execution_count": null,
   "metadata": {},
   "outputs": [],
   "source": [
    "from datetime import datetime\n",
    "from openpyxl import Workbook\n",
    "\n",
    "# neue Arbeitsmappe erzeugen\n",
    "workbook = Workbook()\n",
    "ws = workbook.active\n",
    "ws.title = \"Meta\"\n",
    "ws.append([\"Stand\", datetime.now().strftime(\"%d.%m.%Y %H:%M:%S\")])\n",
    "\n",
    "# pro Klasse ein neues Arbeitsblatt erzeugen\n",
    "for klassenName in oklassenNamen:\n",
    "    ws = workbook.create_sheet(klassenName)\n",
    "    \n",
    "    # die Spaltenbreiten im Arbeitsblatt anpassen\n",
    "    ws.column_dimensions[\"A\"].width = 15\n",
    "    ws.column_dimensions[\"B\"].width = 15\n",
    "    ws.column_dimensions[\"C\"].width = 13\n",
    "    ws.column_dimensions[\"D\"].width = 7\n",
    "    ws.column_dimensions[\"E\"].width = 25\n",
    "    ws.column_dimensions[\"F\"].width = 35\n",
    "    ws.column_dimensions[\"G\"].width = 17\n",
    "    ws.column_dimensions[\"H\"].width = 18\n",
    "\n",
    "    # Kopfzeilen schreiben\n",
    "    ws.append([\"Klasse:\", klassenName])
    "    ws.append([\"\"])
    "    ws.append([\"Nachname\", \"Vorname\", \"Geburtsdatum\", \"Zugang\", \"Benutzername\", \"EMail\", \"Zeitraum\", \"Einladungsablauf\"])\n",
    "   \n",
    "    # Schülerdaten schreiben\n",
    "    for schueler in oklassenNamen[klassenName]:\n",
    "        ws.append(schueler)\n",
    "        \n",
    "workbook.save(\"test.xlsx\")"
   ]
  }
 ],
 "metadata": {
  "interpreter": {
   "hash": "c75f17c5e9790ef22ed5879a07dfd6f6aae4fffcd8c88f9ff2b68fef34aafa76"
  },
  "kernelspec": {
   "display_name": "Python 3.8.8 64-bit ('base': conda)",
   "name": "python3"
  },
  "language_info": {
   "codemirror_mode": {
    "name": "ipython",
    "version": 3
   },
   "file_extension": ".py",
   "mimetype": "text/x-python",
   "name": "python",
   "nbconvert_exporter": "python",
   "pygments_lexer": "ipython3",
   "version": "3.8.8"
  },
  "orig_nbformat": 4
 },
 "nbformat": 4,
 "nbformat_minor": 2
}
